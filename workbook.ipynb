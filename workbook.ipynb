{
 "cells": [
  {
   "cell_type": "code",
   "execution_count": 7,
   "metadata": {},
   "outputs": [],
   "source": [
    "import numpy as np\n",
    "import pandas as pd\n",
    "import re"
   ]
  },
  {
   "cell_type": "code",
   "execution_count": 10,
   "metadata": {},
   "outputs": [
    {
     "name": "stderr",
     "output_type": "stream",
     "text": [
      "<>:2: SyntaxWarning: invalid escape sequence '\\D'\n",
      "<>:2: SyntaxWarning: invalid escape sequence '\\D'\n",
      "C:\\Users\\Madz\\AppData\\Local\\Temp\\ipykernel_21548\\657662112.py:2: SyntaxWarning: invalid escape sequence '\\D'\n",
      "  with open(\"2024\\Day_02\\data.txt\", \"r\") as f:\n"
     ]
    }
   ],
   "source": [
    "# import data from txt\n",
    "with open(\"2024\\Day_02\\data.txt\", \"r\") as f:\n",
    "    data = f.read().strip().split(\"\\n\")\n",
    "int_data = [list(map(int, re.findall(\"\\\\d+\", x))) for x in data]"
   ]
  },
  {
   "cell_type": "code",
   "execution_count": null,
   "metadata": {},
   "outputs": [
    {
     "name": "stdout",
     "output_type": "stream",
     "text": [
      "390\n",
      "439\n"
     ]
    }
   ],
   "source": [
    "# Day 2 help from Reddit...\n",
    "def safe1(levels):\n",
    "    return all(1 <= abs(n1 - n2) <= 3 for n1, n2 in zip(levels, levels[1:])) and (\n",
    "        levels == sorted(levels) or levels == sorted(levels)[::-1]\n",
    "    )\n",
    "\n",
    "\n",
    "def safe2(levels):\n",
    "    return any(safe1(levels[:i] + levels[i + 1 :]) for i in range(len(levels)))\n",
    "\n",
    "\n",
    "# Part 1\n",
    "print(sum(safe1(levels) for levels in int_data))\n",
    "\n",
    "# Part 2\n",
    "print(sum(safe2(levels) for levels in int_data))"
   ]
  }
 ],
 "metadata": {
  "kernelspec": {
   "display_name": ".venv",
   "language": "python",
   "name": "python3"
  },
  "language_info": {
   "codemirror_mode": {
    "name": "ipython",
    "version": 3
   },
   "file_extension": ".py",
   "mimetype": "text/x-python",
   "name": "python",
   "nbconvert_exporter": "python",
   "pygments_lexer": "ipython3",
   "version": "3.12.6"
  }
 },
 "nbformat": 4,
 "nbformat_minor": 2
}
