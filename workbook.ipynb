{
 "cells": [
  {
   "cell_type": "code",
   "execution_count": 1,
   "metadata": {},
   "outputs": [],
   "source": [
    "import numpy as np\n",
    "import pandas as pd"
   ]
  },
  {
   "cell_type": "code",
   "execution_count": 2,
   "metadata": {},
   "outputs": [],
   "source": [
    "# import data from txt\n",
    "with open(\"2024\\Day_02\\\\test_data.txt\", \"r\") as f:\n",
    "    data = [line.strip().split(\" \") for line in f]"
   ]
  },
  {
   "cell_type": "code",
   "execution_count": null,
   "metadata": {},
   "outputs": [],
   "source": [
    "def detect_changes(report):\n",
    "    r, l = 0, 0\n",
    "    safe, unsafe = [], []\n",
    "    while r < len(report):  # r for reports\n",
    "        int_data = list(map(int, report[r]))\n",
    "        dif = [int_data[i] - int_data[i - 1] for i in range(1, len(report[r]))]\n",
    "        if all(i < 0 for i in dif) and all(i >= -3 for i in dif):\n",
    "            safe.append(r)\n",
    "        elif all(i <= 3 for i in dif) and all(i > 0 for i in dif):\n",
    "            safe.append(r)\n",
    "        else:\n",
    "            unsafe.append(int_data)\n",
    "        r += 1\n"
   ]
  },
  {
   "cell_type": "code",
   "execution_count": 14,
   "metadata": {},
   "outputs": [],
   "source": [
    "def remove_unsafe_level(report):\n",
    "    x = 0\n",
    "    while x < len(report):\n",
    "        for i,y in enumerate(report[x]):\n",
    "            if (y == 0) or (y < -3) or (y > 3):\n",
    "                del report[x][i]\n",
    "                break\n",
    "        x += 1\n",
    "        \n",
    "remove_unsafe_level(unsafe)"
   ]
  },
  {
   "cell_type": "code",
   "execution_count": 17,
   "metadata": {},
   "outputs": [
    {
     "name": "stdout",
     "output_type": "stream",
     "text": [
      "safe = [0, 5]\n",
      "unsafe = [[1, 2, 7, 8, 9], [9, 7, 6, 2, 1], [1, 3, 2, 4, 5], [8, 6, 4, 4, 1]]\n",
      "Number of Safe: 2\n"
     ]
    }
   ],
   "source": [
    "print(f\"safe = {safe}\")\n",
    "print(f\"unsafe = {unsafe}\")\n",
    "print(f\"Number of Safe: {len(safe)}\")"
   ]
  }
 ],
 "metadata": {
  "kernelspec": {
   "display_name": ".venv",
   "language": "python",
   "name": "python3"
  },
  "language_info": {
   "codemirror_mode": {
    "name": "ipython",
    "version": 3
   },
   "file_extension": ".py",
   "mimetype": "text/x-python",
   "name": "python",
   "nbconvert_exporter": "python",
   "pygments_lexer": "ipython3",
   "version": "3.11.3"
  }
 },
 "nbformat": 4,
 "nbformat_minor": 2
}
