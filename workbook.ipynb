{
 "cells": [
  {
   "cell_type": "code",
   "execution_count": 14,
   "metadata": {},
   "outputs": [
    {
     "name": "stdout",
     "output_type": "stream",
     "text": [
      "Found at: (0, 0, 'apple')\n"
     ]
    }
   ],
   "source": [
    "def find_multiple_targets(data, targets):\n",
    "    for i, sublist in enumerate(data):\n",
    "        for target in targets:\n",
    "            if target in sublist:\n",
    "                return (i, sublist.index(target), target)  # Outer index, inner index, and the target\n",
    "    return None  # If no target is found\n",
    "\n",
    "# Example usage\n",
    "data = [[\"apple\", \"banana\"], [\"carrot\", \"apple\"], [\"date\", \"fig\", \"grape\"]]\n",
    "targets = [\"apple\", \"grape\", \"carrot\"]\n",
    "\n",
    "result = find_multiple_targets(data, targets)\n",
    "print(\"Found at:\", result)\n"
   ]
  },
  {
   "cell_type": "code",
   "execution_count": 4,
   "metadata": {},
   "outputs": [],
   "source": [
    "import numpy as np\n",
    "import pandas as pd\n",
    "import re"
   ]
  },
  {
   "cell_type": "code",
   "execution_count": null,
   "metadata": {},
   "outputs": [
    {
     "name": "stdout",
     "output_type": "stream",
     "text": [
      "[['.', '.', '.', '.', '#', '.', '.', '.', '.', '.'], ['.', '.', '.', '.', '^', '.', '.', '.', '.', '#'], ['.', '.', '.', '.', '.', '.', '.', '.', '.', '.'], ['.', '.', '#', '.', '.', '.', '.', '.', '.', '.'], ['.', '.', '.', '.', '.', '.', '.', '#', '.', '.'], ['.', '.', '.', '.', '.', '.', '.', '.', '.', '.'], ['.', '#', '.', '.', '.', '.', '.', '.', '.', '.'], ['.', '.', '.', '.', '.', '.', '.', '.', '#', '.'], ['#', '.', '.', '.', '.', '.', '.', '.', '.', '.'], ['.', '.', '.', '.', '.', '.', '#', '.', '.', '.']]\n"
     ]
    }
   ],
   "source": [
    "with open(\"2024\\\\Day_06\\\\test_data.txt\", \"r\") as file:\n",
    "        # Read each line, strip newline characters, and convert to a list of characters\n",
    "        map = [list(line.strip()) for line in file.readlines()]"
   ]
  },
  {
   "cell_type": "code",
   "execution_count": 11,
   "metadata": {},
   "outputs": [
    {
     "name": "stdout",
     "output_type": "stream",
     "text": [
      "\n"
     ]
    }
   ],
   "source": [
    "up, down, left, right = \"^\", \"v\", \"<\", \">\"\n",
    "for match in re.finditer(rf\"{up}|{down}|{left}|{right}\", str(grid)): position = match.group()\n",
    "print(position)"
   ]
  },
  {
   "cell_type": "code",
   "execution_count": null,
   "metadata": {},
   "outputs": [],
   "source": []
  }
 ],
 "metadata": {
  "kernelspec": {
   "display_name": ".venv",
   "language": "python",
   "name": "python3"
  },
  "language_info": {
   "codemirror_mode": {
    "name": "ipython",
    "version": 3
   },
   "file_extension": ".py",
   "mimetype": "text/x-python",
   "name": "python",
   "nbconvert_exporter": "python",
   "pygments_lexer": "ipython3",
   "version": "3.12.6"
  }
 },
 "nbformat": 4,
 "nbformat_minor": 2
}
